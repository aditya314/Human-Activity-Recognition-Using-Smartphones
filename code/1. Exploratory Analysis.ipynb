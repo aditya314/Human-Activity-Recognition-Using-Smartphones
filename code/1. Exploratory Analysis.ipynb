{
 "cells": [
  {
   "cell_type": "markdown",
   "metadata": {},
   "source": [
    "## 01 . Import packages"
   ]
  },
  {
   "cell_type": "code",
   "execution_count": 2,
   "metadata": {
    "scrolled": true
   },
   "outputs": [],
   "source": [
    "%matplotlib inline\n",
    "\n",
    "import pandas as pd\n",
    "import numpy as np\n",
    "import seaborn as sns\n",
    "import matplotlib.pyplot as plt\n",
    "import pandas_profiling as prof"
   ]
  },
  {
   "cell_type": "markdown",
   "metadata": {},
   "source": [
    "## 02 . Import data"
   ]
  },
  {
   "cell_type": "code",
   "execution_count": 3,
   "metadata": {
    "collapsed": true
   },
   "outputs": [],
   "source": [
    "data = pd.read_csv(\"../train.csv\")"
   ]
  },
  {
   "cell_type": "code",
   "execution_count": 4,
   "metadata": {},
   "outputs": [
    {
     "data": {
      "text/html": [
       "<div>\n",
       "<style>\n",
       "    .dataframe thead tr:only-child th {\n",
       "        text-align: right;\n",
       "    }\n",
       "\n",
       "    .dataframe thead th {\n",
       "        text-align: left;\n",
       "    }\n",
       "\n",
       "    .dataframe tbody tr th {\n",
       "        vertical-align: top;\n",
       "    }\n",
       "</style>\n",
       "<table border=\"1\" class=\"dataframe\">\n",
       "  <thead>\n",
       "    <tr style=\"text-align: right;\">\n",
       "      <th></th>\n",
       "      <th>tBodyAcc-mean()-X</th>\n",
       "      <th>tBodyAcc-mean()-Y</th>\n",
       "      <th>tBodyAcc-mean()-Z</th>\n",
       "      <th>tBodyAcc-std()-X</th>\n",
       "      <th>tBodyAcc-std()-Y</th>\n",
       "      <th>tBodyAcc-std()-Z</th>\n",
       "      <th>tBodyAcc-mad()-X</th>\n",
       "      <th>tBodyAcc-mad()-Y</th>\n",
       "      <th>tBodyAcc-mad()-Z</th>\n",
       "      <th>tBodyAcc-max()-X</th>\n",
       "      <th>...</th>\n",
       "      <th>fBodyBodyGyroJerkMag-kurtosis()</th>\n",
       "      <th>angle(tBodyAccMean,gravity)</th>\n",
       "      <th>angle(tBodyAccJerkMean),gravityMean)</th>\n",
       "      <th>angle(tBodyGyroMean,gravityMean)</th>\n",
       "      <th>angle(tBodyGyroJerkMean,gravityMean)</th>\n",
       "      <th>angle(X,gravityMean)</th>\n",
       "      <th>angle(Y,gravityMean)</th>\n",
       "      <th>angle(Z,gravityMean)</th>\n",
       "      <th>subject</th>\n",
       "      <th>Activity</th>\n",
       "    </tr>\n",
       "  </thead>\n",
       "  <tbody>\n",
       "    <tr>\n",
       "      <th>0</th>\n",
       "      <td>0.288585</td>\n",
       "      <td>-0.020294</td>\n",
       "      <td>-0.132905</td>\n",
       "      <td>-0.995279</td>\n",
       "      <td>-0.983111</td>\n",
       "      <td>-0.913526</td>\n",
       "      <td>-0.995112</td>\n",
       "      <td>-0.983185</td>\n",
       "      <td>-0.923527</td>\n",
       "      <td>-0.934724</td>\n",
       "      <td>...</td>\n",
       "      <td>-0.710304</td>\n",
       "      <td>-0.112754</td>\n",
       "      <td>0.030400</td>\n",
       "      <td>-0.464761</td>\n",
       "      <td>-0.018446</td>\n",
       "      <td>-0.841247</td>\n",
       "      <td>0.179941</td>\n",
       "      <td>-0.058627</td>\n",
       "      <td>1</td>\n",
       "      <td>STANDING</td>\n",
       "    </tr>\n",
       "    <tr>\n",
       "      <th>1</th>\n",
       "      <td>0.278419</td>\n",
       "      <td>-0.016411</td>\n",
       "      <td>-0.123520</td>\n",
       "      <td>-0.998245</td>\n",
       "      <td>-0.975300</td>\n",
       "      <td>-0.960322</td>\n",
       "      <td>-0.998807</td>\n",
       "      <td>-0.974914</td>\n",
       "      <td>-0.957686</td>\n",
       "      <td>-0.943068</td>\n",
       "      <td>...</td>\n",
       "      <td>-0.861499</td>\n",
       "      <td>0.053477</td>\n",
       "      <td>-0.007435</td>\n",
       "      <td>-0.732626</td>\n",
       "      <td>0.703511</td>\n",
       "      <td>-0.844788</td>\n",
       "      <td>0.180289</td>\n",
       "      <td>-0.054317</td>\n",
       "      <td>1</td>\n",
       "      <td>STANDING</td>\n",
       "    </tr>\n",
       "    <tr>\n",
       "      <th>2</th>\n",
       "      <td>0.279653</td>\n",
       "      <td>-0.019467</td>\n",
       "      <td>-0.113462</td>\n",
       "      <td>-0.995380</td>\n",
       "      <td>-0.967187</td>\n",
       "      <td>-0.978944</td>\n",
       "      <td>-0.996520</td>\n",
       "      <td>-0.963668</td>\n",
       "      <td>-0.977469</td>\n",
       "      <td>-0.938692</td>\n",
       "      <td>...</td>\n",
       "      <td>-0.760104</td>\n",
       "      <td>-0.118559</td>\n",
       "      <td>0.177899</td>\n",
       "      <td>0.100699</td>\n",
       "      <td>0.808529</td>\n",
       "      <td>-0.848933</td>\n",
       "      <td>0.180637</td>\n",
       "      <td>-0.049118</td>\n",
       "      <td>1</td>\n",
       "      <td>STANDING</td>\n",
       "    </tr>\n",
       "    <tr>\n",
       "      <th>3</th>\n",
       "      <td>0.279174</td>\n",
       "      <td>-0.026201</td>\n",
       "      <td>-0.123283</td>\n",
       "      <td>-0.996091</td>\n",
       "      <td>-0.983403</td>\n",
       "      <td>-0.990675</td>\n",
       "      <td>-0.997099</td>\n",
       "      <td>-0.982750</td>\n",
       "      <td>-0.989302</td>\n",
       "      <td>-0.938692</td>\n",
       "      <td>...</td>\n",
       "      <td>-0.482845</td>\n",
       "      <td>-0.036788</td>\n",
       "      <td>-0.012892</td>\n",
       "      <td>0.640011</td>\n",
       "      <td>-0.485366</td>\n",
       "      <td>-0.848649</td>\n",
       "      <td>0.181935</td>\n",
       "      <td>-0.047663</td>\n",
       "      <td>1</td>\n",
       "      <td>STANDING</td>\n",
       "    </tr>\n",
       "    <tr>\n",
       "      <th>4</th>\n",
       "      <td>0.276629</td>\n",
       "      <td>-0.016570</td>\n",
       "      <td>-0.115362</td>\n",
       "      <td>-0.998139</td>\n",
       "      <td>-0.980817</td>\n",
       "      <td>-0.990482</td>\n",
       "      <td>-0.998321</td>\n",
       "      <td>-0.979672</td>\n",
       "      <td>-0.990441</td>\n",
       "      <td>-0.942469</td>\n",
       "      <td>...</td>\n",
       "      <td>-0.699205</td>\n",
       "      <td>0.123320</td>\n",
       "      <td>0.122542</td>\n",
       "      <td>0.693578</td>\n",
       "      <td>-0.615971</td>\n",
       "      <td>-0.847865</td>\n",
       "      <td>0.185151</td>\n",
       "      <td>-0.043892</td>\n",
       "      <td>1</td>\n",
       "      <td>STANDING</td>\n",
       "    </tr>\n",
       "  </tbody>\n",
       "</table>\n",
       "<p>5 rows × 563 columns</p>\n",
       "</div>"
      ],
      "text/plain": [
       "   tBodyAcc-mean()-X  tBodyAcc-mean()-Y  tBodyAcc-mean()-Z  tBodyAcc-std()-X  \\\n",
       "0           0.288585          -0.020294          -0.132905         -0.995279   \n",
       "1           0.278419          -0.016411          -0.123520         -0.998245   \n",
       "2           0.279653          -0.019467          -0.113462         -0.995380   \n",
       "3           0.279174          -0.026201          -0.123283         -0.996091   \n",
       "4           0.276629          -0.016570          -0.115362         -0.998139   \n",
       "\n",
       "   tBodyAcc-std()-Y  tBodyAcc-std()-Z  tBodyAcc-mad()-X  tBodyAcc-mad()-Y  \\\n",
       "0         -0.983111         -0.913526         -0.995112         -0.983185   \n",
       "1         -0.975300         -0.960322         -0.998807         -0.974914   \n",
       "2         -0.967187         -0.978944         -0.996520         -0.963668   \n",
       "3         -0.983403         -0.990675         -0.997099         -0.982750   \n",
       "4         -0.980817         -0.990482         -0.998321         -0.979672   \n",
       "\n",
       "   tBodyAcc-mad()-Z  tBodyAcc-max()-X    ...     \\\n",
       "0         -0.923527         -0.934724    ...      \n",
       "1         -0.957686         -0.943068    ...      \n",
       "2         -0.977469         -0.938692    ...      \n",
       "3         -0.989302         -0.938692    ...      \n",
       "4         -0.990441         -0.942469    ...      \n",
       "\n",
       "   fBodyBodyGyroJerkMag-kurtosis()  angle(tBodyAccMean,gravity)  \\\n",
       "0                        -0.710304                    -0.112754   \n",
       "1                        -0.861499                     0.053477   \n",
       "2                        -0.760104                    -0.118559   \n",
       "3                        -0.482845                    -0.036788   \n",
       "4                        -0.699205                     0.123320   \n",
       "\n",
       "   angle(tBodyAccJerkMean),gravityMean)  angle(tBodyGyroMean,gravityMean)  \\\n",
       "0                              0.030400                         -0.464761   \n",
       "1                             -0.007435                         -0.732626   \n",
       "2                              0.177899                          0.100699   \n",
       "3                             -0.012892                          0.640011   \n",
       "4                              0.122542                          0.693578   \n",
       "\n",
       "   angle(tBodyGyroJerkMean,gravityMean)  angle(X,gravityMean)  \\\n",
       "0                             -0.018446             -0.841247   \n",
       "1                              0.703511             -0.844788   \n",
       "2                              0.808529             -0.848933   \n",
       "3                             -0.485366             -0.848649   \n",
       "4                             -0.615971             -0.847865   \n",
       "\n",
       "   angle(Y,gravityMean)  angle(Z,gravityMean)  subject  Activity  \n",
       "0              0.179941             -0.058627        1  STANDING  \n",
       "1              0.180289             -0.054317        1  STANDING  \n",
       "2              0.180637             -0.049118        1  STANDING  \n",
       "3              0.181935             -0.047663        1  STANDING  \n",
       "4              0.185151             -0.043892        1  STANDING  \n",
       "\n",
       "[5 rows x 563 columns]"
      ]
     },
     "execution_count": 4,
     "metadata": {},
     "output_type": "execute_result"
    }
   ],
   "source": [
    "data.head()"
   ]
  },
  {
   "cell_type": "code",
   "execution_count": 5,
   "metadata": {},
   "outputs": [
    {
     "data": {
      "text/plain": [
       "array(['STANDING', 'SITTING', 'LAYING', 'WALKING', 'WALKING_DOWNSTAIRS',\n",
       "       'WALKING_UPSTAIRS'], dtype=object)"
      ]
     },
     "execution_count": 5,
     "metadata": {},
     "output_type": "execute_result"
    }
   ],
   "source": [
    "data.Activity.unique()"
   ]
  },
  {
   "cell_type": "code",
   "execution_count": 6,
   "metadata": {
    "collapsed": true
   },
   "outputs": [],
   "source": [
    "randomState = 42\n",
    "ntree=25"
   ]
  },
  {
   "cell_type": "markdown",
   "metadata": {},
   "source": [
    "## 03 . Profiling"
   ]
  },
  {
   "cell_type": "code",
   "execution_count": 7,
   "metadata": {
    "collapsed": true
   },
   "outputs": [],
   "source": [
    "data_profile = prof.ProfileReport(data)\n",
    "\n",
    "data_profile.to_file('../data_profile.html')"
   ]
  },
  {
   "cell_type": "markdown",
   "metadata": {},
   "source": [
    "## 04. Variable variance"
   ]
  },
  {
   "cell_type": "code",
   "execution_count": 14,
   "metadata": {},
   "outputs": [],
   "source": [
    "dataVar_total = data.ix[:,:-2].var(0).transpose().sort_values(ascending=False)\n",
    "dataVar_act = data.ix[:,:-2].groupby(data.Activity).var(0).transpose()"
   ]
  },
  {
   "cell_type": "code",
   "execution_count": 15,
   "metadata": {},
   "outputs": [
    {
     "data": {
      "text/plain": [
       "tGravityAcc-iqr()-X                 0.005378\n",
       "fBodyGyro-bandsEnergy()-25,48.2     0.005165\n",
       "fBodyGyro-bandsEnergy()-33,48.1     0.005119\n",
       "tBodyAcc-mean()-X                   0.004937\n",
       "fBodyGyro-bandsEnergy()-33,48.2     0.004666\n",
       "fBodyGyro-bandsEnergy()-33,40.2     0.004287\n",
       "fBodyGyro-bandsEnergy()-33,40.1     0.004192\n",
       "fBodyAccJerk-bandsEnergy()-57,64    0.003367\n",
       "tBodyAcc-mean()-Z                   0.003208\n",
       "tBodyAcc-mean()-Y                   0.001665\n",
       "dtype: float64"
      ]
     },
     "execution_count": 15,
     "metadata": {},
     "output_type": "execute_result"
    }
   ],
   "source": [
    "dataVar_total.tail(10)"
   ]
  },
  {
   "cell_type": "code",
   "execution_count": 16,
   "metadata": {},
   "outputs": [
    {
     "data": {
      "text/html": [
       "<div>\n",
       "<style>\n",
       "    .dataframe thead tr:only-child th {\n",
       "        text-align: right;\n",
       "    }\n",
       "\n",
       "    .dataframe thead th {\n",
       "        text-align: left;\n",
       "    }\n",
       "\n",
       "    .dataframe tbody tr th {\n",
       "        vertical-align: top;\n",
       "    }\n",
       "</style>\n",
       "<table border=\"1\" class=\"dataframe\">\n",
       "  <thead>\n",
       "    <tr style=\"text-align: right;\">\n",
       "      <th>Activity</th>\n",
       "      <th>LAYING</th>\n",
       "      <th>SITTING</th>\n",
       "      <th>STANDING</th>\n",
       "      <th>WALKING</th>\n",
       "      <th>WALKING_DOWNSTAIRS</th>\n",
       "      <th>WALKING_UPSTAIRS</th>\n",
       "    </tr>\n",
       "  </thead>\n",
       "  <tbody>\n",
       "    <tr>\n",
       "      <th>fBodyBodyGyroJerkMag-meanFreq()</th>\n",
       "      <td>0.079926</td>\n",
       "      <td>0.083744</td>\n",
       "      <td>0.105482</td>\n",
       "      <td>0.024687</td>\n",
       "      <td>0.031414</td>\n",
       "      <td>0.026516</td>\n",
       "    </tr>\n",
       "    <tr>\n",
       "      <th>fBodyBodyGyroJerkMag-skewness()</th>\n",
       "      <td>0.101986</td>\n",
       "      <td>0.097102</td>\n",
       "      <td>0.106128</td>\n",
       "      <td>0.104668</td>\n",
       "      <td>0.049845</td>\n",
       "      <td>0.070996</td>\n",
       "    </tr>\n",
       "    <tr>\n",
       "      <th>fBodyBodyGyroJerkMag-kurtosis()</th>\n",
       "      <td>0.080768</td>\n",
       "      <td>0.077978</td>\n",
       "      <td>0.084933</td>\n",
       "      <td>0.141629</td>\n",
       "      <td>0.043632</td>\n",
       "      <td>0.065166</td>\n",
       "    </tr>\n",
       "    <tr>\n",
       "      <th>angle(tBodyAccMean,gravity)</th>\n",
       "      <td>0.049610</td>\n",
       "      <td>0.029838</td>\n",
       "      <td>0.013957</td>\n",
       "      <td>0.209984</td>\n",
       "      <td>0.266602</td>\n",
       "      <td>0.170729</td>\n",
       "    </tr>\n",
       "    <tr>\n",
       "      <th>angle(tBodyAccJerkMean),gravityMean)</th>\n",
       "      <td>0.114458</td>\n",
       "      <td>0.090443</td>\n",
       "      <td>0.063626</td>\n",
       "      <td>0.289054</td>\n",
       "      <td>0.399259</td>\n",
       "      <td>0.338465</td>\n",
       "    </tr>\n",
       "    <tr>\n",
       "      <th>angle(tBodyGyroMean,gravityMean)</th>\n",
       "      <td>0.131365</td>\n",
       "      <td>0.112082</td>\n",
       "      <td>0.253459</td>\n",
       "      <td>0.439827</td>\n",
       "      <td>0.698350</td>\n",
       "      <td>0.703457</td>\n",
       "    </tr>\n",
       "    <tr>\n",
       "      <th>angle(tBodyGyroJerkMean,gravityMean)</th>\n",
       "      <td>0.144037</td>\n",
       "      <td>0.121489</td>\n",
       "      <td>0.299574</td>\n",
       "      <td>0.246816</td>\n",
       "      <td>0.283629</td>\n",
       "      <td>0.296547</td>\n",
       "    </tr>\n",
       "    <tr>\n",
       "      <th>angle(X,gravityMean)</th>\n",
       "      <td>0.020820</td>\n",
       "      <td>0.048960</td>\n",
       "      <td>0.010593</td>\n",
       "      <td>0.009716</td>\n",
       "      <td>0.010300</td>\n",
       "      <td>0.014552</td>\n",
       "    </tr>\n",
       "    <tr>\n",
       "      <th>angle(Y,gravityMean)</th>\n",
       "      <td>0.082441</td>\n",
       "      <td>0.017884</td>\n",
       "      <td>0.004765</td>\n",
       "      <td>0.003188</td>\n",
       "      <td>0.003894</td>\n",
       "      <td>0.004778</td>\n",
       "    </tr>\n",
       "    <tr>\n",
       "      <th>angle(Z,gravityMean)</th>\n",
       "      <td>0.122123</td>\n",
       "      <td>0.026586</td>\n",
       "      <td>0.012885</td>\n",
       "      <td>0.013053</td>\n",
       "      <td>0.013568</td>\n",
       "      <td>0.021104</td>\n",
       "    </tr>\n",
       "  </tbody>\n",
       "</table>\n",
       "</div>"
      ],
      "text/plain": [
       "Activity                                LAYING   SITTING  STANDING   WALKING  \\\n",
       "fBodyBodyGyroJerkMag-meanFreq()       0.079926  0.083744  0.105482  0.024687   \n",
       "fBodyBodyGyroJerkMag-skewness()       0.101986  0.097102  0.106128  0.104668   \n",
       "fBodyBodyGyroJerkMag-kurtosis()       0.080768  0.077978  0.084933  0.141629   \n",
       "angle(tBodyAccMean,gravity)           0.049610  0.029838  0.013957  0.209984   \n",
       "angle(tBodyAccJerkMean),gravityMean)  0.114458  0.090443  0.063626  0.289054   \n",
       "angle(tBodyGyroMean,gravityMean)      0.131365  0.112082  0.253459  0.439827   \n",
       "angle(tBodyGyroJerkMean,gravityMean)  0.144037  0.121489  0.299574  0.246816   \n",
       "angle(X,gravityMean)                  0.020820  0.048960  0.010593  0.009716   \n",
       "angle(Y,gravityMean)                  0.082441  0.017884  0.004765  0.003188   \n",
       "angle(Z,gravityMean)                  0.122123  0.026586  0.012885  0.013053   \n",
       "\n",
       "Activity                              WALKING_DOWNSTAIRS  WALKING_UPSTAIRS  \n",
       "fBodyBodyGyroJerkMag-meanFreq()                 0.031414          0.026516  \n",
       "fBodyBodyGyroJerkMag-skewness()                 0.049845          0.070996  \n",
       "fBodyBodyGyroJerkMag-kurtosis()                 0.043632          0.065166  \n",
       "angle(tBodyAccMean,gravity)                     0.266602          0.170729  \n",
       "angle(tBodyAccJerkMean),gravityMean)            0.399259          0.338465  \n",
       "angle(tBodyGyroMean,gravityMean)                0.698350          0.703457  \n",
       "angle(tBodyGyroJerkMean,gravityMean)            0.283629          0.296547  \n",
       "angle(X,gravityMean)                            0.010300          0.014552  \n",
       "angle(Y,gravityMean)                            0.003894          0.004778  \n",
       "angle(Z,gravityMean)                            0.013568          0.021104  "
      ]
     },
     "execution_count": 16,
     "metadata": {},
     "output_type": "execute_result"
    }
   ],
   "source": [
    "dataVar_act.tail(10)"
   ]
  },
  {
   "cell_type": "code",
   "execution_count": 17,
   "metadata": {},
   "outputs": [
    {
     "data": {
      "text/plain": [
       "fBodyAccJerk-entropy()-X         0.565102\n",
       "fBodyAccJerk-entropy()-Y         0.542504\n",
       "tBodyAccJerkMag-entropy()        0.528914\n",
       "fBodyAcc-entropy()-X             0.525717\n",
       "tGravityAcc-correlation()-X,Z    0.500873\n",
       "tGravityAcc-correlation()-Y,Z    0.495843\n",
       "tBodyGyroJerkMag-entropy()       0.495160\n",
       "tGravityAcc-energy()-X           0.487070\n",
       "tGravityAcc-correlation()-X,Y    0.485302\n",
       "fBodyAccMag-entropy()            0.466093\n",
       "dtype: float64"
      ]
     },
     "execution_count": 17,
     "metadata": {},
     "output_type": "execute_result"
    }
   ],
   "source": [
    "dataVar_total.head(10)"
   ]
  },
  {
   "cell_type": "code",
   "execution_count": 18,
   "metadata": {},
   "outputs": [
    {
     "data": {
      "text/html": [
       "<div>\n",
       "<style>\n",
       "    .dataframe thead tr:only-child th {\n",
       "        text-align: right;\n",
       "    }\n",
       "\n",
       "    .dataframe thead th {\n",
       "        text-align: left;\n",
       "    }\n",
       "\n",
       "    .dataframe tbody tr th {\n",
       "        vertical-align: top;\n",
       "    }\n",
       "</style>\n",
       "<table border=\"1\" class=\"dataframe\">\n",
       "  <thead>\n",
       "    <tr style=\"text-align: right;\">\n",
       "      <th>Activity</th>\n",
       "      <th>LAYING</th>\n",
       "      <th>SITTING</th>\n",
       "      <th>STANDING</th>\n",
       "      <th>WALKING</th>\n",
       "      <th>WALKING_DOWNSTAIRS</th>\n",
       "      <th>WALKING_UPSTAIRS</th>\n",
       "    </tr>\n",
       "  </thead>\n",
       "  <tbody>\n",
       "    <tr>\n",
       "      <th>tBodyAcc-mean()-X</th>\n",
       "      <td>0.010303</td>\n",
       "      <td>0.001762</td>\n",
       "      <td>0.000404</td>\n",
       "      <td>0.002533</td>\n",
       "      <td>0.009035</td>\n",
       "      <td>0.006083</td>\n",
       "    </tr>\n",
       "    <tr>\n",
       "      <th>tBodyAcc-mean()-Y</th>\n",
       "      <td>0.005400</td>\n",
       "      <td>0.001050</td>\n",
       "      <td>0.000318</td>\n",
       "      <td>0.000436</td>\n",
       "      <td>0.000731</td>\n",
       "      <td>0.001371</td>\n",
       "    </tr>\n",
       "    <tr>\n",
       "      <th>tBodyAcc-mean()-Z</th>\n",
       "      <td>0.008048</td>\n",
       "      <td>0.002053</td>\n",
       "      <td>0.001272</td>\n",
       "      <td>0.001051</td>\n",
       "      <td>0.002563</td>\n",
       "      <td>0.003621</td>\n",
       "    </tr>\n",
       "    <tr>\n",
       "      <th>tBodyAcc-std()-X</th>\n",
       "      <td>0.006191</td>\n",
       "      <td>0.001041</td>\n",
       "      <td>0.000523</td>\n",
       "      <td>0.020853</td>\n",
       "      <td>0.049284</td>\n",
       "      <td>0.023823</td>\n",
       "    </tr>\n",
       "    <tr>\n",
       "      <th>tBodyAcc-std()-Y</th>\n",
       "      <td>0.021569</td>\n",
       "      <td>0.016908</td>\n",
       "      <td>0.006706</td>\n",
       "      <td>0.031541</td>\n",
       "      <td>0.059371</td>\n",
       "      <td>0.040517</td>\n",
       "    </tr>\n",
       "    <tr>\n",
       "      <th>tBodyAcc-std()-Z</th>\n",
       "      <td>0.018413</td>\n",
       "      <td>0.013397</td>\n",
       "      <td>0.007819</td>\n",
       "      <td>0.046956</td>\n",
       "      <td>0.070280</td>\n",
       "      <td>0.066142</td>\n",
       "    </tr>\n",
       "    <tr>\n",
       "      <th>tBodyAcc-mad()-X</th>\n",
       "      <td>0.005626</td>\n",
       "      <td>0.000908</td>\n",
       "      <td>0.000365</td>\n",
       "      <td>0.020198</td>\n",
       "      <td>0.055518</td>\n",
       "      <td>0.023009</td>\n",
       "    </tr>\n",
       "    <tr>\n",
       "      <th>tBodyAcc-mad()-Y</th>\n",
       "      <td>0.023430</td>\n",
       "      <td>0.018043</td>\n",
       "      <td>0.006828</td>\n",
       "      <td>0.030887</td>\n",
       "      <td>0.053463</td>\n",
       "      <td>0.041037</td>\n",
       "    </tr>\n",
       "    <tr>\n",
       "      <th>tBodyAcc-mad()-Z</th>\n",
       "      <td>0.020938</td>\n",
       "      <td>0.015862</td>\n",
       "      <td>0.009117</td>\n",
       "      <td>0.042953</td>\n",
       "      <td>0.059130</td>\n",
       "      <td>0.064964</td>\n",
       "    </tr>\n",
       "    <tr>\n",
       "      <th>tBodyAcc-max()-X</th>\n",
       "      <td>0.002494</td>\n",
       "      <td>0.001464</td>\n",
       "      <td>0.001558</td>\n",
       "      <td>0.046749</td>\n",
       "      <td>0.037660</td>\n",
       "      <td>0.042213</td>\n",
       "    </tr>\n",
       "  </tbody>\n",
       "</table>\n",
       "</div>"
      ],
      "text/plain": [
       "Activity             LAYING   SITTING  STANDING   WALKING  WALKING_DOWNSTAIRS  \\\n",
       "tBodyAcc-mean()-X  0.010303  0.001762  0.000404  0.002533            0.009035   \n",
       "tBodyAcc-mean()-Y  0.005400  0.001050  0.000318  0.000436            0.000731   \n",
       "tBodyAcc-mean()-Z  0.008048  0.002053  0.001272  0.001051            0.002563   \n",
       "tBodyAcc-std()-X   0.006191  0.001041  0.000523  0.020853            0.049284   \n",
       "tBodyAcc-std()-Y   0.021569  0.016908  0.006706  0.031541            0.059371   \n",
       "tBodyAcc-std()-Z   0.018413  0.013397  0.007819  0.046956            0.070280   \n",
       "tBodyAcc-mad()-X   0.005626  0.000908  0.000365  0.020198            0.055518   \n",
       "tBodyAcc-mad()-Y   0.023430  0.018043  0.006828  0.030887            0.053463   \n",
       "tBodyAcc-mad()-Z   0.020938  0.015862  0.009117  0.042953            0.059130   \n",
       "tBodyAcc-max()-X   0.002494  0.001464  0.001558  0.046749            0.037660   \n",
       "\n",
       "Activity           WALKING_UPSTAIRS  \n",
       "tBodyAcc-mean()-X          0.006083  \n",
       "tBodyAcc-mean()-Y          0.001371  \n",
       "tBodyAcc-mean()-Z          0.003621  \n",
       "tBodyAcc-std()-X           0.023823  \n",
       "tBodyAcc-std()-Y           0.040517  \n",
       "tBodyAcc-std()-Z           0.066142  \n",
       "tBodyAcc-mad()-X           0.023009  \n",
       "tBodyAcc-mad()-Y           0.041037  \n",
       "tBodyAcc-mad()-Z           0.064964  \n",
       "tBodyAcc-max()-X           0.042213  "
      ]
     },
     "execution_count": 18,
     "metadata": {},
     "output_type": "execute_result"
    }
   ],
   "source": [
    "dataVar_act.head(10)"
   ]
  },
  {
   "cell_type": "code",
   "execution_count": 20,
   "metadata": {},
   "outputs": [
    {
     "data": {
      "text/plain": [
       "<seaborn.axisgrid.FacetGrid at 0xc0c7dbf978>"
      ]
     },
     "execution_count": 20,
     "metadata": {},
     "output_type": "execute_result"
    },
    {
     "data": {
      "text/plain": [
       "<matplotlib.figure.Figure at 0xc0c7dbf0f0>"
      ]
     },
     "metadata": {},
     "output_type": "display_data"
    },
    {
     "data": {
      "image/png": "[encoded data removed]",
      "text/plain": [
       "<matplotlib.figure.Figure at 0xc0be1d90b8>"
      ]
     },
     "metadata": {},
     "output_type": "display_data"
    }
   ],
   "source": [
    "sns.plt.figure(figsize=(10,10))\n",
    "sns.set_style('whitegrid')\n",
    "g = sns.FacetGrid(data,col='Activity',size=10)\n",
    "g.map(plt.hist,'tBodyAccJerk-std()-X')"
   ]
  }
 ],
 "metadata": {
  "kernelspec": {
   "display_name": "Python 3",
   "language": "python",
   "name": "python3"
  },
  "language_info": {
   "codemirror_mode": {
    "name": "ipython",
    "version": 3
   },
   "file_extension": ".py",
   "mimetype": "text/x-python",
   "name": "python",
   "nbconvert_exporter": "python",
   "pygments_lexer": "ipython3",
   "version": "3.6.1"
  },
  "widgets": {
   "state": {},
   "version": "1.1.2"
  }
 },
 "nbformat": 4,
 "nbformat_minor": 1
}
